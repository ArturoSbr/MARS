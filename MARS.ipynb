{
  "nbformat": 4,
  "nbformat_minor": 0,
  "metadata": {
    "colab": {
      "name": "MARS",
      "provenance": [],
      "collapsed_sections": [],
      "authorship_tag": "ABX9TyN4eXf0qBpLwvkulg3+vDFu",
      "include_colab_link": true
    },
    "kernelspec": {
      "name": "python3",
      "display_name": "Python 3"
    },
    "language_info": {
      "name": "python"
    }
  },
  "cells": [
    {
      "cell_type": "markdown",
      "metadata": {
        "id": "view-in-github",
        "colab_type": "text"
      },
      "source": [
        "<a href=\"https://colab.research.google.com/github/ArturoSbr/MARS/blob/main/MARS.ipynb\" target=\"_parent\"><img src=\"https://colab.research.google.com/assets/colab-badge.svg\" alt=\"Open In Colab\"/></a>"
      ]
    },
    {
      "cell_type": "markdown",
      "metadata": {
        "id": "vLZJMYwtXO1-"
      },
      "source": [
        "# Establecer ambiente local"
      ]
    },
    {
      "cell_type": "code",
      "metadata": {
        "id": "sQWeazEHcAMn"
      },
      "source": [
        "# Clonar el repositorio en donde físicamente se encuetra `pyearth`\n",
        "!pip install git+https://github.com/scikit-learn-contrib/py-earth@v0.2dev"
      ],
      "execution_count": null,
      "outputs": []
    },
    {
      "cell_type": "code",
      "metadata": {
        "id": "QhRY-sr-L0vv"
      },
      "source": [
        "# Frameworks\n",
        "import numpy as np\n",
        "import pandas as pd\n",
        "# Visualización\n",
        "import matplotlib.pyplot as plt\n",
        "# Datos dummy\n",
        "from sklearn.datasets import load_boston\n",
        "# Modelos\n",
        "from sklearn.linear_model import LinearRegression\n",
        "from pyearth import Earth\n",
        "# Cargar datos\n",
        "df = pd.read_csv(load_boston()['filename'], skiprows=1)\n",
        "# Métrica RMSE\n",
        "from sklearn.metrics import mean_squared_error as mse"
      ],
      "execution_count": null,
      "outputs": []
    },
    {
      "cell_type": "markdown",
      "metadata": {
        "id": "qHWHfPrSXRt1"
      },
      "source": [
        "# 1. Funciones de bisagra (hinge functions)\n",
        "Una función de bisagra está compuesta de dos funciones rectificadoras. Para una observación $x$ y constantes $\\beta_1$, $\\beta_2$ y $\\alpha$, una función de este tipo toma la forma:\n",
        "\n",
        "$\\beta_1 \\text{max}(0, x - \\alpha)$\n",
        "\n",
        "ó\n",
        "\n",
        "$\\beta_2 \\text{max}(0, \\alpha - x)$\n",
        "\n",
        "Cada una de las funciones dentro de la función de bisgra son iguales a cero antes o después de llegar al *knot*. La función agrega estas dos funciones disjuntas para crear una función lineal por partes:\n",
        "\n",
        "$f(x; \\alpha, \\beta_1, \\beta_2) = \\beta_1 \\times \\text{max}(0, x - \\alpha) +\n",
        "\\beta_2 \\times \\text{max}(0, \\alpha - x)$"
      ]
    },
    {
      "cell_type": "code",
      "metadata": {
        "id": "T_gqGlqmL4jc"
      },
      "source": [
        "# Definir una función de bisagra\n",
        "def hinge(x, a, b_1, b_2):\n",
        "    '''\n",
        "    Función de bisagra.\n",
        "    Argumentos:\n",
        "        x: array-like\n",
        "            Observaciones de la variable independiente\n",
        "        a: float\n",
        "            knot\n",
        "        b_1: float\n",
        "            Pendiente de la primera función lineal\n",
        "        b_2: float\n",
        "            Pendiente de la segunda función lineal\n",
        "    '''\n",
        "    y = []\n",
        "    for x_i in x:\n",
        "        y.append(b_1 * max(0, a - x_i) + b_2 * max(0, x_i - a))\n",
        "    return y"
      ],
      "execution_count": null,
      "outputs": []
    },
    {
      "cell_type": "code",
      "metadata": {
        "id": "weNHo-1mOrxu"
      },
      "source": [
        "# Declarar 21 observaciones (-10, -9, ... , 9, 10)\n",
        "x = np.arange(-10, 11, 1)"
      ],
      "execution_count": null,
      "outputs": []
    },
    {
      "cell_type": "code",
      "metadata": {
        "id": "LCyqgAghO5Sx"
      },
      "source": [
        "# Cambios en el knot\n",
        "for a in [-5, 0, 7]:\n",
        "    plt.plot(x, hinge(x, a=a, b_1=1, b_2=1), label='knot = ' + str(a))\n",
        "plt.xticks(ticks=x)\n",
        "plt.ylim(0, 20)\n",
        "plt.legend()\n",
        "plt.grid()\n",
        "plt.show()"
      ],
      "execution_count": null,
      "outputs": []
    },
    {
      "cell_type": "code",
      "metadata": {
        "id": "kd-y8dp5SED5"
      },
      "source": [
        "# Cambios en las pendientes\n",
        "for b_1, b_2 in [(-2, 5), (2, 2), (1, -4)]:\n",
        "    plt.plot(x, hinge(x, a=0, b_1=b_1, b_2=b_2), label='b_1 = ' + str(b_1) + ', b_2 = ' + str(b_2))\n",
        "plt.xticks(x)\n",
        "plt.grid()\n",
        "plt.legend()\n",
        "plt.show()"
      ],
      "execution_count": null,
      "outputs": []
    },
    {
      "cell_type": "code",
      "metadata": {
        "id": "qJMHk9iWTr7a"
      },
      "source": [
        "user_a = float(input('Escoge un knot: '))\n",
        "user_b1 = float(input('Escoge la pendiente de la primera partición: '))\n",
        "user_b2 = float(input('Escoge la pendiente de la segunda partición: '))\n",
        "print('\\n\\nknot = ', round(user_a, 2), ', b_1 = ',\n",
        "      round(user_b1, 2), ', b_2 = ', round(user_b2, 2), sep='')\n",
        "\n",
        "x = np.arange(-100, 100, 1)\n",
        "y = hinge(x=x, a=user_a, b_1=user_b1, b_2=user_b2)\n",
        "plt.plot(x, y)\n",
        "plt.xlabel('x')\n",
        "plt.ylabel('h(x)')\n",
        "plt.show()"
      ],
      "execution_count": null,
      "outputs": []
    },
    {
      "cell_type": "markdown",
      "metadata": {
        "id": "nBmMoiAsfXdQ"
      },
      "source": [
        "# 2. Multivariate Adaptive Rregression Spline (MARS)\n",
        "En esencia, queremos llegar a un modelo con mejor ajuste que una regresión lineal cuando al menos una de las variables independientes tiene una relación no-lineal sobre la variable dependiente."
      ]
    },
    {
      "cell_type": "code",
      "metadata": {
        "id": "hGBXagN1f_xG"
      },
      "source": [
        "x = np.arange(0, 36)\n",
        "plt.scatter(df['LSTAT'], df['MEDV'], alpha=0.3)\n",
        "plt.plot(x, 35 - x,\n",
        "         ls='--', lw=3, color='C1', label='Regresión lineal')\n",
        "plt.plot(x, 26 + np.array(hinge(x=x, a=6.5, b_1=6, b_2=-0.8)),\n",
        "         lw=3, color='C3', ls='--', label='MARS')\n",
        "# Styling\n",
        "plt.ylim(0, 50)\n",
        "plt.legend()\n",
        "plt.xlabel('Viviendas pobres en la vecindad (%)')\n",
        "plt.ylabel('Precio mediano (miles de USD)')\n",
        "plt.show()"
      ],
      "execution_count": null,
      "outputs": []
    },
    {
      "cell_type": "markdown",
      "metadata": {
        "id": "tWGg1weZWMHL"
      },
      "source": [
        "### 2.1. Reproducción manual del proceso de construcción de variables\n",
        "Mars propone una función de bisagra usando cada variable independiente y cada punto de corte disponible. Luego corre un modelo lineal y escoge la opción que más reduzca el RMSE."
      ]
    },
    {
      "cell_type": "code",
      "metadata": {
        "id": "FAHR4B0vo3eD"
      },
      "source": [
        "# Variable independiente y variable dependiente\n",
        "x, y = df['LSTAT'].values, df['MEDV'].values\n",
        "\n",
        "# Propuestas de puntos de corte\n",
        "for a in [0, 10, 20, 30]:\n",
        "    # Transformación\n",
        "    x_hinge = hinge(x=x, a=a, b_1=1, b_2=1)\n",
        "    # Scatter plots\n",
        "    fig, axes = plt.subplots(nrows=1, ncols=2, figsize=(7, 3))\n",
        "    # x' vs x\n",
        "    axes[0].scatter(x, x_hinge)\n",
        "    axes[0].set_xlabel('Variable original')\n",
        "    axes[0].set_ylabel('Variable transformada')\n",
        "    # x' vs y\n",
        "    axes[1].scatter(x_hinge, y)\n",
        "    axes[1].set_xlabel('Variable transformada')\n",
        "    axes[1].set_ylabel('Variable de respuesta')\n",
        "    #Styling\n",
        "    fig.tight_layout()\n",
        "    plt.show()"
      ],
      "execution_count": null,
      "outputs": []
    },
    {
      "cell_type": "markdown",
      "metadata": {
        "id": "STQ0HpqbcPA5"
      },
      "source": [
        "### 2. Modelo MARS\n",
        "Ajustar un modelo MARS para predecir el valor mediano del precio de las casas en una vecindad (`MEDV`) como función del crimen, edificios industriales, niveles de contaminación, edad promedio de los vecinos, el porcentaje de viviendas pobres en el área, etc.\n"
      ]
    },
    {
      "cell_type": "code",
      "metadata": {
        "id": "g1S07SNfXo76"
      },
      "source": [
        "df.head()"
      ],
      "execution_count": null,
      "outputs": []
    },
    {
      "cell_type": "code",
      "metadata": {
        "id": "N4JCCwWeXqEX"
      },
      "source": [
        "# Variables independientes\n",
        "X = df.loc[:, 'CRIM':'LSTAT']\n",
        "# Variable dependiente\n",
        "y = df['MEDV']\n",
        "\n",
        "# Visualizar relaciones entre cada X_i y el precio\n",
        "for feature in X.columns:\n",
        "    plt.scatter(X[feature], y)\n",
        "    plt.title(feature + ' vs target')\n",
        "    plt.xlabel(feature)\n",
        "    plt.ylabel('Precio (USD, miles)')\n",
        "    plt.show()"
      ],
      "execution_count": null,
      "outputs": []
    },
    {
      "cell_type": "code",
      "metadata": {
        "id": "78OYsWMRahIN"
      },
      "source": [
        "# Declarar modelo MARS\n",
        "reg = Earth(max_terms=None,\n",
        "            max_degree=1,\n",
        "            thresh=0.001,\n",
        "            allow_linear=True,\n",
        "            verbose=100)\n",
        "reg.fit(X, y)\n",
        "\n",
        "# Declarar modelo lineal\n",
        "lin = LinearRegression()\n",
        "lin.fit(X, y)"
      ],
      "execution_count": null,
      "outputs": []
    },
    {
      "cell_type": "code",
      "metadata": {
        "id": "_2DuzaiXc2C3"
      },
      "source": [
        "print('RMSE de MARS:', np.sqrt(mse(y, reg.predict(X))))\n",
        "print('RMSE de OLS: ', np.sqrt(mse(y, lin.predict(X))))"
      ],
      "execution_count": null,
      "outputs": []
    }
  ]
}